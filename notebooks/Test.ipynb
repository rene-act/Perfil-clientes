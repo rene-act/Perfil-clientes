{
 "cells": [
  {
   "cell_type": "markdown",
   "id": "877b8a59-ccb7-4d22-be14-97ead67d90a5",
   "metadata": {},
   "source": [
    "## Librerias"
   ]
  },
  {
   "cell_type": "code",
   "execution_count": 18,
   "id": "d508659c-d11d-4a2e-bb6f-d5751f302ffe",
   "metadata": {},
   "outputs": [],
   "source": [
    "import pandas as pd"
   ]
  },
  {
   "cell_type": "code",
   "execution_count": 19,
   "id": "83eb62de-a17d-4a32-9ced-e46ca0090b72",
   "metadata": {},
   "outputs": [],
   "source": [
    "Tarifa = [{'Poliza':'8849394','Aplica':23,'Coste':340},\n",
    "          {'Poliza':'8849394','Aplica':23,'Coste':600},\n",
    "          {'Poliza':'4500040','Aplica':40,'Coste':900}]"
   ]
  },
  {
   "cell_type": "code",
   "execution_count": 32,
   "id": "79609b48-875a-4fa9-9325-e31a48cc738e",
   "metadata": {},
   "outputs": [],
   "source": [
    "df_tarifa = pd.DataFrame(Tarifa,index=['A','B','C'])"
   ]
  },
  {
   "cell_type": "code",
   "execution_count": 33,
   "id": "0c2dec54-abb2-40cd-8315-e20228ac1de3",
   "metadata": {},
   "outputs": [
    {
     "data": {
      "text/html": [
       "<div>\n",
       "<style scoped>\n",
       "    .dataframe tbody tr th:only-of-type {\n",
       "        vertical-align: middle;\n",
       "    }\n",
       "\n",
       "    .dataframe tbody tr th {\n",
       "        vertical-align: top;\n",
       "    }\n",
       "\n",
       "    .dataframe thead th {\n",
       "        text-align: right;\n",
       "    }\n",
       "</style>\n",
       "<table border=\"1\" class=\"dataframe\">\n",
       "  <thead>\n",
       "    <tr style=\"text-align: right;\">\n",
       "      <th></th>\n",
       "      <th>Poliza</th>\n",
       "      <th>Aplica</th>\n",
       "      <th>Coste</th>\n",
       "    </tr>\n",
       "  </thead>\n",
       "  <tbody>\n",
       "    <tr>\n",
       "      <th>A</th>\n",
       "      <td>8849394</td>\n",
       "      <td>23</td>\n",
       "      <td>340</td>\n",
       "    </tr>\n",
       "    <tr>\n",
       "      <th>B</th>\n",
       "      <td>8849394</td>\n",
       "      <td>23</td>\n",
       "      <td>600</td>\n",
       "    </tr>\n",
       "    <tr>\n",
       "      <th>C</th>\n",
       "      <td>4500040</td>\n",
       "      <td>40</td>\n",
       "      <td>900</td>\n",
       "    </tr>\n",
       "  </tbody>\n",
       "</table>\n",
       "</div>"
      ],
      "text/plain": [
       "    Poliza  Aplica  Coste\n",
       "A  8849394      23    340\n",
       "B  8849394      23    600\n",
       "C  4500040      40    900"
      ]
     },
     "execution_count": 33,
     "metadata": {},
     "output_type": "execute_result"
    }
   ],
   "source": [
    "df_tarifa"
   ]
  },
  {
   "cell_type": "code",
   "execution_count": 34,
   "id": "278fae22-eddf-4637-8a71-cf96bed32bb6",
   "metadata": {},
   "outputs": [],
   "source": [
    "Geo = {'Poliza':['8849394','4500040'],\n",
    "       'Aplica':[23,40],\n",
    "       'Salario_medio':[20000,23000]}"
   ]
  },
  {
   "cell_type": "code",
   "execution_count": 35,
   "id": "46eb338a-2291-45c5-b2d1-e1b9fcfbf373",
   "metadata": {},
   "outputs": [],
   "source": [
    "df_geo = pd.DataFrame(Geo,index=['A','B'])"
   ]
  },
  {
   "cell_type": "code",
   "execution_count": 36,
   "id": "2def4458-18a6-4879-94a1-e1082885fa06",
   "metadata": {},
   "outputs": [
    {
     "data": {
      "text/html": [
       "<div>\n",
       "<style scoped>\n",
       "    .dataframe tbody tr th:only-of-type {\n",
       "        vertical-align: middle;\n",
       "    }\n",
       "\n",
       "    .dataframe tbody tr th {\n",
       "        vertical-align: top;\n",
       "    }\n",
       "\n",
       "    .dataframe thead th {\n",
       "        text-align: right;\n",
       "    }\n",
       "</style>\n",
       "<table border=\"1\" class=\"dataframe\">\n",
       "  <thead>\n",
       "    <tr style=\"text-align: right;\">\n",
       "      <th></th>\n",
       "      <th>Poliza</th>\n",
       "      <th>Aplica</th>\n",
       "      <th>Salario_medio</th>\n",
       "    </tr>\n",
       "  </thead>\n",
       "  <tbody>\n",
       "    <tr>\n",
       "      <th>A</th>\n",
       "      <td>8849394</td>\n",
       "      <td>23</td>\n",
       "      <td>20000</td>\n",
       "    </tr>\n",
       "    <tr>\n",
       "      <th>B</th>\n",
       "      <td>4500040</td>\n",
       "      <td>40</td>\n",
       "      <td>23000</td>\n",
       "    </tr>\n",
       "  </tbody>\n",
       "</table>\n",
       "</div>"
      ],
      "text/plain": [
       "    Poliza  Aplica  Salario_medio\n",
       "A  8849394      23          20000\n",
       "B  4500040      40          23000"
      ]
     },
     "execution_count": 36,
     "metadata": {},
     "output_type": "execute_result"
    }
   ],
   "source": [
    "df_geo"
   ]
  },
  {
   "cell_type": "code",
   "execution_count": 40,
   "id": "821f035a-63f6-4fd6-a5cd-5bb8c0b98fde",
   "metadata": {},
   "outputs": [
    {
     "data": {
      "text/html": [
       "<div>\n",
       "<style scoped>\n",
       "    .dataframe tbody tr th:only-of-type {\n",
       "        vertical-align: middle;\n",
       "    }\n",
       "\n",
       "    .dataframe tbody tr th {\n",
       "        vertical-align: top;\n",
       "    }\n",
       "\n",
       "    .dataframe thead th {\n",
       "        text-align: right;\n",
       "    }\n",
       "</style>\n",
       "<table border=\"1\" class=\"dataframe\">\n",
       "  <thead>\n",
       "    <tr style=\"text-align: right;\">\n",
       "      <th></th>\n",
       "      <th>Poliza</th>\n",
       "      <th>Aplica</th>\n",
       "      <th>Coste</th>\n",
       "    </tr>\n",
       "  </thead>\n",
       "  <tbody>\n",
       "    <tr>\n",
       "      <th>C</th>\n",
       "      <td>4500040</td>\n",
       "      <td>40</td>\n",
       "      <td>900</td>\n",
       "    </tr>\n",
       "  </tbody>\n",
       "</table>\n",
       "</div>"
      ],
      "text/plain": [
       "    Poliza  Aplica  Coste\n",
       "C  4500040      40    900"
      ]
     },
     "execution_count": 40,
     "metadata": {},
     "output_type": "execute_result"
    }
   ],
   "source": [
    "df_tarifa.iloc[[2],:]"
   ]
  },
  {
   "cell_type": "code",
   "execution_count": 41,
   "id": "4b72589b-a571-4f10-9955-7bcd4f0580ca",
   "metadata": {},
   "outputs": [
    {
     "data": {
      "text/html": [
       "<div>\n",
       "<style scoped>\n",
       "    .dataframe tbody tr th:only-of-type {\n",
       "        vertical-align: middle;\n",
       "    }\n",
       "\n",
       "    .dataframe tbody tr th {\n",
       "        vertical-align: top;\n",
       "    }\n",
       "\n",
       "    .dataframe thead th {\n",
       "        text-align: right;\n",
       "    }\n",
       "</style>\n",
       "<table border=\"1\" class=\"dataframe\">\n",
       "  <thead>\n",
       "    <tr style=\"text-align: right;\">\n",
       "      <th></th>\n",
       "      <th>Coste</th>\n",
       "    </tr>\n",
       "  </thead>\n",
       "  <tbody>\n",
       "    <tr>\n",
       "      <th>C</th>\n",
       "      <td>900</td>\n",
       "    </tr>\n",
       "  </tbody>\n",
       "</table>\n",
       "</div>"
      ],
      "text/plain": [
       "   Coste\n",
       "C    900"
      ]
     },
     "execution_count": 41,
     "metadata": {},
     "output_type": "execute_result"
    }
   ],
   "source": [
    "df_tarifa.iloc[[2],[2]]"
   ]
  },
  {
   "cell_type": "code",
   "execution_count": 42,
   "id": "e99c69f4-87e4-4dc3-9fbc-ceaa8a460c74",
   "metadata": {},
   "outputs": [
    {
     "data": {
      "text/html": [
       "<div>\n",
       "<style scoped>\n",
       "    .dataframe tbody tr th:only-of-type {\n",
       "        vertical-align: middle;\n",
       "    }\n",
       "\n",
       "    .dataframe tbody tr th {\n",
       "        vertical-align: top;\n",
       "    }\n",
       "\n",
       "    .dataframe thead th {\n",
       "        text-align: right;\n",
       "    }\n",
       "</style>\n",
       "<table border=\"1\" class=\"dataframe\">\n",
       "  <thead>\n",
       "    <tr style=\"text-align: right;\">\n",
       "      <th></th>\n",
       "      <th>Coste</th>\n",
       "    </tr>\n",
       "  </thead>\n",
       "  <tbody>\n",
       "    <tr>\n",
       "      <th>A</th>\n",
       "      <td>340</td>\n",
       "    </tr>\n",
       "    <tr>\n",
       "      <th>B</th>\n",
       "      <td>600</td>\n",
       "    </tr>\n",
       "    <tr>\n",
       "      <th>C</th>\n",
       "      <td>900</td>\n",
       "    </tr>\n",
       "  </tbody>\n",
       "</table>\n",
       "</div>"
      ],
      "text/plain": [
       "   Coste\n",
       "A    340\n",
       "B    600\n",
       "C    900"
      ]
     },
     "execution_count": 42,
     "metadata": {},
     "output_type": "execute_result"
    }
   ],
   "source": [
    "df_tarifa.loc[:,['Coste']]"
   ]
  },
  {
   "cell_type": "code",
   "execution_count": 43,
   "id": "40a754a9-3139-4dc1-ae71-e8dbce29b9bd",
   "metadata": {},
   "outputs": [],
   "source": [
    "df = df_tarifa.merge(df_geo,on = ['Poliza','Aplica'],how='inner')"
   ]
  },
  {
   "cell_type": "code",
   "execution_count": 44,
   "id": "7a8ea673-a9dd-4011-870a-2eb58b2d5756",
   "metadata": {},
   "outputs": [
    {
     "data": {
      "text/html": [
       "<div>\n",
       "<style scoped>\n",
       "    .dataframe tbody tr th:only-of-type {\n",
       "        vertical-align: middle;\n",
       "    }\n",
       "\n",
       "    .dataframe tbody tr th {\n",
       "        vertical-align: top;\n",
       "    }\n",
       "\n",
       "    .dataframe thead th {\n",
       "        text-align: right;\n",
       "    }\n",
       "</style>\n",
       "<table border=\"1\" class=\"dataframe\">\n",
       "  <thead>\n",
       "    <tr style=\"text-align: right;\">\n",
       "      <th></th>\n",
       "      <th>Poliza</th>\n",
       "      <th>Aplica</th>\n",
       "      <th>Coste</th>\n",
       "      <th>Salario_medio</th>\n",
       "    </tr>\n",
       "  </thead>\n",
       "  <tbody>\n",
       "    <tr>\n",
       "      <th>0</th>\n",
       "      <td>8849394</td>\n",
       "      <td>23</td>\n",
       "      <td>340</td>\n",
       "      <td>20000</td>\n",
       "    </tr>\n",
       "    <tr>\n",
       "      <th>1</th>\n",
       "      <td>8849394</td>\n",
       "      <td>23</td>\n",
       "      <td>600</td>\n",
       "      <td>20000</td>\n",
       "    </tr>\n",
       "    <tr>\n",
       "      <th>2</th>\n",
       "      <td>4500040</td>\n",
       "      <td>40</td>\n",
       "      <td>900</td>\n",
       "      <td>23000</td>\n",
       "    </tr>\n",
       "  </tbody>\n",
       "</table>\n",
       "</div>"
      ],
      "text/plain": [
       "    Poliza  Aplica  Coste  Salario_medio\n",
       "0  8849394      23    340          20000\n",
       "1  8849394      23    600          20000\n",
       "2  4500040      40    900          23000"
      ]
     },
     "execution_count": 44,
     "metadata": {},
     "output_type": "execute_result"
    }
   ],
   "source": [
    "df"
   ]
  },
  {
   "cell_type": "code",
   "execution_count": 3,
   "id": "fcd6e31a-f8ab-48ba-996a-02e650d225c4",
   "metadata": {},
   "outputs": [
    {
     "name": "stdout",
     "output_type": "stream",
     "text": [
      "P(X = 2): 0.22404180765538775\n",
      "P(X <= 2): 0.42319008112684364\n"
     ]
    }
   ],
   "source": [
    "from scipy.stats import poisson\n",
    "\n",
    "# Parámetro λ (tasa media de ocurrencia)\n",
    "mu = 3  # por ejemplo, 3 eventos por unidad de tiempo\n",
    "\n",
    "# Calcular P(X = 2) para la distribución de Poisson con λ = 3\n",
    "prob_2_eventos = poisson.pmf(2, mu)\n",
    "print(f\"P(X = 2): {prob_2_eventos}\")\n",
    "\n",
    "# Calcular P(X <= 2) para la distribución de Poisson con λ = 3\n",
    "prob_2_o_menos = poisson.cdf(2, mu)\n",
    "print(f\"P(X <= 2): {prob_2_o_menos}\")"
   ]
  }
 ],
 "metadata": {
  "kernelspec": {
   "display_name": "Python 3 (ipykernel)",
   "language": "python",
   "name": "python3"
  },
  "language_info": {
   "codemirror_mode": {
    "name": "ipython",
    "version": 3
   },
   "file_extension": ".py",
   "mimetype": "text/x-python",
   "name": "python",
   "nbconvert_exporter": "python",
   "pygments_lexer": "ipython3",
   "version": "3.9.20"
  }
 },
 "nbformat": 4,
 "nbformat_minor": 5
}
