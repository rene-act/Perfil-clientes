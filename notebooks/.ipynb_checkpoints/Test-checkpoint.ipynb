{
 "cells": [
  {
   "cell_type": "markdown",
   "id": "877b8a59-ccb7-4d22-be14-97ead67d90a5",
   "metadata": {},
   "source": [
    "## Librerias"
   ]
  },
  {
   "cell_type": "code",
   "execution_count": 6,
   "id": "45bd400f",
   "metadata": {},
   "outputs": [],
   "source": [
    "import pandas as pd"
   ]
  },
  {
   "cell_type": "code",
   "execution_count": 7,
   "id": "94c64bc3-e0db-4be4-8e31-202b5dee72a4",
   "metadata": {},
   "outputs": [],
   "source": [
    "Tarifa = [{'Poliza':'30293','Aplica':24,'Coste':405,'Age':30},\n",
    "          {'Poliza':'30293','Aplica':24,'Coste':300,'Age':28},\n",
    "          {'Poliza':'45403','Aplica':34,'Coste':250,'Age':23}]"
   ]
  },
  {
   "cell_type": "code",
   "execution_count": 39,
   "id": "f7640f88-2c8f-4dbd-9d2b-48b7bd6a472b",
   "metadata": {},
   "outputs": [],
   "source": [
    "Geo = {'Poliza': ['30293','45403'],\n",
    "       'Aplica':[24,34],\n",
    "       'SalaAVG':[22000,24000]}"
   ]
  },
  {
   "cell_type": "code",
   "execution_count": 40,
   "id": "888aa6b8-1225-4cbb-aeda-673b1ef61938",
   "metadata": {},
   "outputs": [
    {
     "data": {
      "text/plain": [
       "[{'Poliza': '30293', 'Aplica': 24, 'Coste': 405, 'Age': 30},\n",
       " {'Poliza': '30293', 'Aplica': 24, 'Coste': 300, 'Age': 28},\n",
       " {'Poliza': '45403', 'Aplica': 34, 'Coste': 250, 'Age': 23}]"
      ]
     },
     "execution_count": 40,
     "metadata": {},
     "output_type": "execute_result"
    }
   ],
   "source": [
    "Tarifa"
   ]
  },
  {
   "cell_type": "code",
   "execution_count": 41,
   "id": "a5a1e995-af28-4c95-bf25-0953b0767718",
   "metadata": {},
   "outputs": [
    {
     "data": {
      "text/plain": [
       "{'Poliza': ['30293', '45403'], 'Aplica': [24, 34], 'SalaAVG': [22000, 24000]}"
      ]
     },
     "execution_count": 41,
     "metadata": {},
     "output_type": "execute_result"
    }
   ],
   "source": [
    "Geo"
   ]
  },
  {
   "cell_type": "code",
   "execution_count": 42,
   "id": "109533ab-ea00-4ab1-bd38-92dd6c220f47",
   "metadata": {},
   "outputs": [],
   "source": [
    "df_tarifa = pd.DataFrame(Geo)"
   ]
  },
  {
   "cell_type": "code",
   "execution_count": 43,
   "id": "1707726f-0733-471f-9aa8-07bb1deeddae",
   "metadata": {},
   "outputs": [
    {
     "data": {
      "text/html": [
       "<div>\n",
       "<style scoped>\n",
       "    .dataframe tbody tr th:only-of-type {\n",
       "        vertical-align: middle;\n",
       "    }\n",
       "\n",
       "    .dataframe tbody tr th {\n",
       "        vertical-align: top;\n",
       "    }\n",
       "\n",
       "    .dataframe thead th {\n",
       "        text-align: right;\n",
       "    }\n",
       "</style>\n",
       "<table border=\"1\" class=\"dataframe\">\n",
       "  <thead>\n",
       "    <tr style=\"text-align: right;\">\n",
       "      <th></th>\n",
       "      <th>Poliza</th>\n",
       "      <th>Aplica</th>\n",
       "      <th>SalaAVG</th>\n",
       "    </tr>\n",
       "  </thead>\n",
       "  <tbody>\n",
       "    <tr>\n",
       "      <th>0</th>\n",
       "      <td>30293</td>\n",
       "      <td>24</td>\n",
       "      <td>22000</td>\n",
       "    </tr>\n",
       "    <tr>\n",
       "      <th>1</th>\n",
       "      <td>45403</td>\n",
       "      <td>34</td>\n",
       "      <td>24000</td>\n",
       "    </tr>\n",
       "  </tbody>\n",
       "</table>\n",
       "</div>"
      ],
      "text/plain": [
       "  Poliza  Aplica  SalaAVG\n",
       "0  30293      24    22000\n",
       "1  45403      34    24000"
      ]
     },
     "execution_count": 43,
     "metadata": {},
     "output_type": "execute_result"
    }
   ],
   "source": [
    "df_tarifa.head(3)"
   ]
  },
  {
   "cell_type": "code",
   "execution_count": 44,
   "id": "3b1f80ff-409d-4f63-8840-aafad0607aa1",
   "metadata": {},
   "outputs": [],
   "source": [
    "df_geo = pd.DataFrame(Geo)"
   ]
  },
  {
   "cell_type": "code",
   "execution_count": 45,
   "id": "3eac447d-bffe-462a-b7eb-9fc6040e4137",
   "metadata": {},
   "outputs": [
    {
     "data": {
      "text/html": [
       "<div>\n",
       "<style scoped>\n",
       "    .dataframe tbody tr th:only-of-type {\n",
       "        vertical-align: middle;\n",
       "    }\n",
       "\n",
       "    .dataframe tbody tr th {\n",
       "        vertical-align: top;\n",
       "    }\n",
       "\n",
       "    .dataframe thead th {\n",
       "        text-align: right;\n",
       "    }\n",
       "</style>\n",
       "<table border=\"1\" class=\"dataframe\">\n",
       "  <thead>\n",
       "    <tr style=\"text-align: right;\">\n",
       "      <th></th>\n",
       "      <th>Poliza</th>\n",
       "      <th>Aplica</th>\n",
       "      <th>SalaAVG</th>\n",
       "    </tr>\n",
       "  </thead>\n",
       "  <tbody>\n",
       "    <tr>\n",
       "      <th>0</th>\n",
       "      <td>30293</td>\n",
       "      <td>24</td>\n",
       "      <td>22000</td>\n",
       "    </tr>\n",
       "    <tr>\n",
       "      <th>1</th>\n",
       "      <td>45403</td>\n",
       "      <td>34</td>\n",
       "      <td>24000</td>\n",
       "    </tr>\n",
       "  </tbody>\n",
       "</table>\n",
       "</div>"
      ],
      "text/plain": [
       "  Poliza  Aplica  SalaAVG\n",
       "0  30293      24    22000\n",
       "1  45403      34    24000"
      ]
     },
     "execution_count": 45,
     "metadata": {},
     "output_type": "execute_result"
    }
   ],
   "source": [
    "df_geo"
   ]
  },
  {
   "cell_type": "code",
   "execution_count": 28,
   "id": "4c12ed7c-5ff6-4663-8969-e15a429f8d4b",
   "metadata": {},
   "outputs": [
    {
     "data": {
      "text/html": [
       "<div>\n",
       "<style scoped>\n",
       "    .dataframe tbody tr th:only-of-type {\n",
       "        vertical-align: middle;\n",
       "    }\n",
       "\n",
       "    .dataframe tbody tr th {\n",
       "        vertical-align: top;\n",
       "    }\n",
       "\n",
       "    .dataframe thead th {\n",
       "        text-align: right;\n",
       "    }\n",
       "</style>\n",
       "<table border=\"1\" class=\"dataframe\">\n",
       "  <thead>\n",
       "    <tr style=\"text-align: right;\">\n",
       "      <th></th>\n",
       "      <th>Coste</th>\n",
       "    </tr>\n",
       "  </thead>\n",
       "  <tbody>\n",
       "    <tr>\n",
       "      <th>0</th>\n",
       "      <td>405</td>\n",
       "    </tr>\n",
       "    <tr>\n",
       "      <th>1</th>\n",
       "      <td>300</td>\n",
       "    </tr>\n",
       "  </tbody>\n",
       "</table>\n",
       "</div>"
      ],
      "text/plain": [
       "   Coste\n",
       "0    405\n",
       "1    300"
      ]
     },
     "execution_count": 28,
     "metadata": {},
     "output_type": "execute_result"
    }
   ],
   "source": [
    "df_tarifa.iloc[:2,[2]]"
   ]
  },
  {
   "cell_type": "code",
   "execution_count": 31,
   "id": "3a13e89f-92d1-4496-bbb9-4ac1f1224eb5",
   "metadata": {},
   "outputs": [
    {
     "data": {
      "text/html": [
       "<div>\n",
       "<style scoped>\n",
       "    .dataframe tbody tr th:only-of-type {\n",
       "        vertical-align: middle;\n",
       "    }\n",
       "\n",
       "    .dataframe tbody tr th {\n",
       "        vertical-align: top;\n",
       "    }\n",
       "\n",
       "    .dataframe thead th {\n",
       "        text-align: right;\n",
       "    }\n",
       "</style>\n",
       "<table border=\"1\" class=\"dataframe\">\n",
       "  <thead>\n",
       "    <tr style=\"text-align: right;\">\n",
       "      <th></th>\n",
       "      <th>Aplica</th>\n",
       "    </tr>\n",
       "  </thead>\n",
       "  <tbody>\n",
       "    <tr>\n",
       "      <th>0</th>\n",
       "      <td>24</td>\n",
       "    </tr>\n",
       "    <tr>\n",
       "      <th>1</th>\n",
       "      <td>24</td>\n",
       "    </tr>\n",
       "    <tr>\n",
       "      <th>2</th>\n",
       "      <td>34</td>\n",
       "    </tr>\n",
       "  </tbody>\n",
       "</table>\n",
       "</div>"
      ],
      "text/plain": [
       "   Aplica\n",
       "0      24\n",
       "1      24\n",
       "2      34"
      ]
     },
     "execution_count": 31,
     "metadata": {},
     "output_type": "execute_result"
    }
   ],
   "source": [
    "df_tarifa.loc[:2,['Aplica']]"
   ]
  },
  {
   "cell_type": "code",
   "execution_count": 33,
   "id": "595ddc42-49d2-40fa-9a51-c0644f47dd69",
   "metadata": {},
   "outputs": [],
   "source": [
    "df2 = df_tarifa.merge(df_geo,on=['Poliza','Aplica'],how='left')"
   ]
  },
  {
   "cell_type": "code",
   "execution_count": 34,
   "id": "396e1cb4-4a71-44ac-aac0-9bd6e44d479c",
   "metadata": {},
   "outputs": [
    {
     "data": {
      "text/html": [
       "<div>\n",
       "<style scoped>\n",
       "    .dataframe tbody tr th:only-of-type {\n",
       "        vertical-align: middle;\n",
       "    }\n",
       "\n",
       "    .dataframe tbody tr th {\n",
       "        vertical-align: top;\n",
       "    }\n",
       "\n",
       "    .dataframe thead th {\n",
       "        text-align: right;\n",
       "    }\n",
       "</style>\n",
       "<table border=\"1\" class=\"dataframe\">\n",
       "  <thead>\n",
       "    <tr style=\"text-align: right;\">\n",
       "      <th></th>\n",
       "      <th>Poliza</th>\n",
       "      <th>Aplica</th>\n",
       "      <th>Coste</th>\n",
       "      <th>Age</th>\n",
       "      <th>SalaAVG</th>\n",
       "    </tr>\n",
       "  </thead>\n",
       "  <tbody>\n",
       "    <tr>\n",
       "      <th>0</th>\n",
       "      <td>30293</td>\n",
       "      <td>24</td>\n",
       "      <td>405</td>\n",
       "      <td>30</td>\n",
       "      <td>22000</td>\n",
       "    </tr>\n",
       "    <tr>\n",
       "      <th>1</th>\n",
       "      <td>30293</td>\n",
       "      <td>24</td>\n",
       "      <td>300</td>\n",
       "      <td>28</td>\n",
       "      <td>22000</td>\n",
       "    </tr>\n",
       "    <tr>\n",
       "      <th>2</th>\n",
       "      <td>45403</td>\n",
       "      <td>34</td>\n",
       "      <td>250</td>\n",
       "      <td>23</td>\n",
       "      <td>24000</td>\n",
       "    </tr>\n",
       "  </tbody>\n",
       "</table>\n",
       "</div>"
      ],
      "text/plain": [
       "  Poliza  Aplica  Coste  Age  SalaAVG\n",
       "0  30293      24    405   30    22000\n",
       "1  30293      24    300   28    22000\n",
       "2  45403      34    250   23    24000"
      ]
     },
     "execution_count": 34,
     "metadata": {},
     "output_type": "execute_result"
    }
   ],
   "source": [
    "df2"
   ]
  },
  {
   "cell_type": "code",
   "execution_count": 35,
   "id": "8a3d5388-f668-4c89-bb6e-fccb7c9ca6c7",
   "metadata": {},
   "outputs": [],
   "source": [
    "df3 = df_tarifa.merge(df_geo,on=['Poliza','Aplica'],how='inner')"
   ]
  },
  {
   "cell_type": "code",
   "execution_count": 36,
   "id": "68c3007b-7eb1-4b03-b51e-eb0ef9f55386",
   "metadata": {},
   "outputs": [
    {
     "data": {
      "text/html": [
       "<div>\n",
       "<style scoped>\n",
       "    .dataframe tbody tr th:only-of-type {\n",
       "        vertical-align: middle;\n",
       "    }\n",
       "\n",
       "    .dataframe tbody tr th {\n",
       "        vertical-align: top;\n",
       "    }\n",
       "\n",
       "    .dataframe thead th {\n",
       "        text-align: right;\n",
       "    }\n",
       "</style>\n",
       "<table border=\"1\" class=\"dataframe\">\n",
       "  <thead>\n",
       "    <tr style=\"text-align: right;\">\n",
       "      <th></th>\n",
       "      <th>Poliza</th>\n",
       "      <th>Aplica</th>\n",
       "      <th>Coste</th>\n",
       "      <th>Age</th>\n",
       "      <th>SalaAVG</th>\n",
       "    </tr>\n",
       "  </thead>\n",
       "  <tbody>\n",
       "    <tr>\n",
       "      <th>0</th>\n",
       "      <td>30293</td>\n",
       "      <td>24</td>\n",
       "      <td>405</td>\n",
       "      <td>30</td>\n",
       "      <td>22000</td>\n",
       "    </tr>\n",
       "    <tr>\n",
       "      <th>1</th>\n",
       "      <td>30293</td>\n",
       "      <td>24</td>\n",
       "      <td>300</td>\n",
       "      <td>28</td>\n",
       "      <td>22000</td>\n",
       "    </tr>\n",
       "    <tr>\n",
       "      <th>2</th>\n",
       "      <td>45403</td>\n",
       "      <td>34</td>\n",
       "      <td>250</td>\n",
       "      <td>23</td>\n",
       "      <td>24000</td>\n",
       "    </tr>\n",
       "  </tbody>\n",
       "</table>\n",
       "</div>"
      ],
      "text/plain": [
       "  Poliza  Aplica  Coste  Age  SalaAVG\n",
       "0  30293      24    405   30    22000\n",
       "1  30293      24    300   28    22000\n",
       "2  45403      34    250   23    24000"
      ]
     },
     "execution_count": 36,
     "metadata": {},
     "output_type": "execute_result"
    }
   ],
   "source": [
    "df3"
   ]
  },
  {
   "cell_type": "code",
   "execution_count": 3,
   "id": "fcd6e31a-f8ab-48ba-996a-02e650d225c4",
   "metadata": {},
   "outputs": [
    {
     "name": "stdout",
     "output_type": "stream",
     "text": [
      "P(X = 2): 0.22404180765538775\n",
      "P(X <= 2): 0.42319008112684364\n"
     ]
    }
   ],
   "source": [
    "from scipy.stats import poisson\n",
    "\n",
    "# Parámetro λ (tasa media de ocurrencia)\n",
    "mu = 3  # por ejemplo, 3 eventos por unidad de tiempo\n",
    "\n",
    "# Calcular P(X = 2) para la distribución de Poisson con λ = 3\n",
    "prob_2_eventos = poisson.pmf(2, mu)\n",
    "print(f\"P(X = 2): {prob_2_eventos}\")\n",
    "\n",
    "# Calcular P(X <= 2) para la distribución de Poisson con λ = 3\n",
    "prob_2_o_menos = poisson.cdf(2, mu)\n",
    "print(f\"P(X <= 2): {prob_2_o_menos}\")"
   ]
  },
  {
   "cell_type": "code",
   "execution_count": null,
   "id": "39413326-e10b-4b55-8596-fab81735bece",
   "metadata": {},
   "outputs": [],
   "source": []
  }
 ],
 "metadata": {
  "kernelspec": {
   "display_name": "Python 3 (ipykernel)",
   "language": "python",
   "name": "python3"
  },
  "language_info": {
   "codemirror_mode": {
    "name": "ipython",
    "version": 3
   },
   "file_extension": ".py",
   "mimetype": "text/x-python",
   "name": "python",
   "nbconvert_exporter": "python",
   "pygments_lexer": "ipython3",
   "version": "3.9.20"
  }
 },
 "nbformat": 4,
 "nbformat_minor": 5
}
